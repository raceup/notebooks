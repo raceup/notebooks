{
 "cells": [
  {
   "cell_type": "code",
   "execution_count": 14,
   "metadata": {
    "ExecuteTime": {
     "end_time": "2019-04-24T13:57:22.797527Z",
     "start_time": "2019-04-24T13:57:22.585631Z"
    }
   },
   "outputs": [],
   "source": [
    "import numpy as np\n",
    "from matplotlib import pyplot as plt"
   ]
  },
  {
   "cell_type": "code",
   "execution_count": 2,
   "metadata": {
    "ExecuteTime": {
     "end_time": "2019-04-24T13:48:10.814620Z",
     "start_time": "2019-04-24T13:48:10.807104Z"
    }
   },
   "outputs": [],
   "source": [
    "def get_times_from_file(file_path):\n",
    "    lines = open(file_path, 'r').readlines()\n",
    "    lines = [\n",
    "        line.split()\n",
    "        for line in lines\n",
    "    ]  # tokenize\n",
    "    times = [\n",
    "        float(line[-2])  # last but one is time\n",
    "        for line in lines\n",
    "    ]\n",
    "    return times"
   ]
  },
  {
   "cell_type": "code",
   "execution_count": 29,
   "metadata": {
    "ExecuteTime": {
     "end_time": "2019-04-24T13:59:22.352242Z",
     "start_time": "2019-04-24T13:59:22.339664Z"
    }
   },
   "outputs": [],
   "source": [
    "def anal_times(times):\n",
    "    time_diffs = [\n",
    "        times[i] - times[i - 1]\n",
    "        for i in range(1, len(times))\n",
    "    ]  # calculate time between 2 interrupts\n",
    "    avg = np.average(time_diffs)\n",
    "    median = np.median(time_diffs)\n",
    "    lowest, greatest = np.min(time_diffs), np.max(time_diffs)\n",
    "    \n",
    "    out_msg = 'units is [s], avg: {:.3f}, median: {:.3f}, min: {:.3f}, max: {:.3f}'\n",
    "    out_msg = out_msg.format(avg, median, lowest, greatest)\n",
    "    print(out_msg)\n",
    "    plot_times(time_diffs, out_msg)"
   ]
  },
  {
   "cell_type": "code",
   "execution_count": 28,
   "metadata": {
    "ExecuteTime": {
     "end_time": "2019-04-24T13:59:20.989957Z",
     "start_time": "2019-04-24T13:59:20.983845Z"
    }
   },
   "outputs": [],
   "source": [
    "def plot_times(times, title):\n",
    "    plt.hist(times)\n",
    "    plt.title(title)\n",
    "    plt.show()"
   ]
  },
  {
   "cell_type": "code",
   "execution_count": 27,
   "metadata": {
    "ExecuteTime": {
     "end_time": "2019-04-24T13:59:18.991432Z",
     "start_time": "2019-04-24T13:59:18.984932Z"
    }
   },
   "outputs": [],
   "source": [
    "def anal_file(file_path):\n",
    "    times = get_times_from_file(file_path)\n",
    "    anal_times(times)"
   ]
  },
  {
   "cell_type": "code",
   "execution_count": 30,
   "metadata": {
    "ExecuteTime": {
     "end_time": "2019-04-24T13:59:24.163648Z",
     "start_time": "2019-04-24T13:59:23.898543Z"
    }
   },
   "outputs": [
    {
     "name": "stdout",
     "output_type": "stream",
     "text": [
      "units is [s], avg: 0.010, median: 0.010, min: 0.009, max: 0.011\n"
     ]
    },
    {
     "data": {
      "image/png": "[encoded data removed]",
      "text/plain": [
       "<Figure size 432x288 with 1 Axes>"
      ]
     },
     "metadata": {
      "needs_background": "light"
     },
     "output_type": "display_data"
    }
   ],
   "source": [
    "anal_file('timer0_isr.log')"
   ]
  },
  {
   "cell_type": "code",
   "execution_count": null,
   "metadata": {},
   "outputs": [],
   "source": []
  }
 ],
 "metadata": {
  "kernelspec": {
   "display_name": "Python 3",
   "language": "python",
   "name": "python3"
  },
  "language_info": {
   "codemirror_mode": {
    "name": "ipython",
    "version": 3
   },
   "file_extension": ".py",
   "mimetype": "text/x-python",
   "name": "python",
   "nbconvert_exporter": "python",
   "pygments_lexer": "ipython3",
   "version": "3.6.7"
  }
 },
 "nbformat": 4,
 "nbformat_minor": 2
}
