{
 "cells": [
  {
   "cell_type": "code",
   "execution_count": 1,
   "metadata": {
    "ExecuteTime": {
     "end_time": "2019-04-20T11:17:51.336204Z",
     "start_time": "2019-04-20T11:17:50.737513Z"
    }
   },
   "outputs": [],
   "source": [
    "import os\n",
    "import pandas as pd\n",
    "\n",
    "f = \"$HOME/_tmp/LOG_001.CSV\""
   ]
  },
  {
   "cell_type": "code",
   "execution_count": 8,
   "metadata": {
    "ExecuteTime": {
     "end_time": "2019-04-20T11:32:38.266838Z",
     "start_time": "2019-04-20T11:32:37.990157Z"
    }
   },
   "outputs": [],
   "source": [
    "df = pd.read_csv(f, skiprows=1)"
   ]
  },
  {
   "cell_type": "code",
   "execution_count": 10,
   "metadata": {
    "ExecuteTime": {
     "end_time": "2019-04-20T11:32:48.434114Z",
     "start_time": "2019-04-20T11:32:48.400317Z"
    }
   },
   "outputs": [
    {
     "data": {
      "text/plain": [
       "0      0 0 0 0 0 0 0 0\n",
       "1      0 0 0 0 0 0 0 0\n",
       "2      0 0 0 0 0 0 0 0\n",
       "3      0 0 0 0 0 0 0 0\n",
       "4      0 0 0 0 0 0 0 0\n",
       "5      0 0 0 0 0 0 0 0\n",
       "6      0 0 0 0 0 0 0 0\n",
       "7      0 0 0 0 0 0 0 0\n",
       "8      0 0 0 0 0 0 0 0\n",
       "9      0 0 0 0 0 0 0 0\n",
       "10     0 0 0 0 0 0 0 0\n",
       "11     0 0 0 0 0 0 0 0\n",
       "12     0 0 0 0 0 0 0 0\n",
       "13     0 0 0 0 0 0 0 0\n",
       "14     0 0 0 0 0 0 0 0\n",
       "15     0 0 0 0 0 0 0 0\n",
       "16     0 0 0 0 0 0 0 0\n",
       "17     0 0 0 0 0 0 0 0\n",
       "18     0 0 0 0 0 0 0 0\n",
       "19     0 0 0 0 0 0 0 0\n",
       "20     0 0 0 0 0 0 0 0\n",
       "21     0 0 0 0 0 0 0 0\n",
       "22     0 0 0 0 0 0 0 0\n",
       "23     0 0 0 0 0 0 0 0\n",
       "24     0 0 0 0 0 0 0 0\n",
       "25     0 0 0 0 0 0 0 0\n",
       "26     0 0 0 0 0 0 0 0\n",
       "27     0 0 0 0 0 0 0 0\n",
       "28     0 0 0 0 0 0 0 0\n",
       "29     0 0 0 0 0 0 0 0\n",
       "            ...       \n",
       "84     0 0 0 0 0 0 0 0\n",
       "85     0 0 0 0 0 0 0 0\n",
       "86     0 0 0 0 0 0 0 0\n",
       "87     0 0 0 0 0 0 0 0\n",
       "88     0 0 0 0 0 0 0 0\n",
       "89     0 0 0 0 0 0 0 0\n",
       "90     0 0 0 0 0 0 0 0\n",
       "91     0 0 0 0 0 0 0 0\n",
       "92     0 0 0 0 0 0 0 0\n",
       "93     0 0 0 0 0 0 0 0\n",
       "94     0 0 0 0 0 0 0 0\n",
       "95     0 0 0 0 0 0 0 0\n",
       "96     0 0 0 0 0 0 0 0\n",
       "97     0 0 0 0 0 0 0 0\n",
       "98     0 0 0 0 0 0 0 0\n",
       "99     0 0 0 0 0 0 0 0\n",
       "100    0 0 0 0 0 0 0 0\n",
       "101    0 0 0 0 0 0 0 0\n",
       "102    0 0 0 0 0 0 0 0\n",
       "103    0 0 0 0 0 0 0 0\n",
       "104    0 0 0 0 0 0 0 0\n",
       "105    0 0 0 0 0 0 0 0\n",
       "106    0 0 0 0 0 0 0 0\n",
       "107    0 0 0 0 0 0 0 0\n",
       "108    0 0 0 0 0 0 0 0\n",
       "109    0 0 0 0 0 0 0 0\n",
       "110    0 0 0 0 0 0 0 0\n",
       "111    0 0 0 0 0 0 0 0\n",
       "112    0 0 0 0 0 0 0 0\n",
       "113    0 0 0 0 0 0 0 0\n",
       "Name: 0x121, Length: 114, dtype: object"
      ]
     },
     "execution_count": 10,
     "metadata": {},
     "output_type": "execute_result"
    }
   ],
   "source": [
    "df['0x121']"
   ]
  },
  {
   "cell_type": "code",
   "execution_count": null,
   "metadata": {},
   "outputs": [],
   "source": []
  }
 ],
 "metadata": {
  "kernelspec": {
   "display_name": "Python 3",
   "language": "python",
   "name": "python3"
  },
  "language_info": {
   "codemirror_mode": {
    "name": "ipython",
    "version": 3
   },
   "file_extension": ".py",
   "mimetype": "text/x-python",
   "name": "python",
   "nbconvert_exporter": "python",
   "pygments_lexer": "ipython3",
   "version": "3.6.7"
  }
 },
 "nbformat": 4,
 "nbformat_minor": 2
}
