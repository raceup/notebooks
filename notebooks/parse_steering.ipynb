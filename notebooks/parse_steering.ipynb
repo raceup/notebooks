{
 "cells": [
  {
   "cell_type": "code",
   "execution_count": 2,
   "metadata": {
    "ExecuteTime": {
     "end_time": "2019-04-27T10:15:22.558601Z",
     "start_time": "2019-04-27T10:15:22.553103Z"
    }
   },
   "outputs": [],
   "source": [
    "import pandas as pd"
   ]
  },
  {
   "cell_type": "code",
   "execution_count": 3,
   "metadata": {
    "ExecuteTime": {
     "end_time": "2019-04-27T10:16:07.009161Z",
     "start_time": "2019-04-27T10:16:06.991618Z"
    }
   },
   "outputs": [],
   "source": [
    "f = '$HOME/Projects/raceup/2018-19/telemetry/_data/2019-04-27/prima_prova_volante.CSV'"
   ]
  },
  {
   "cell_type": "code",
   "execution_count": 4,
   "metadata": {
    "ExecuteTime": {
     "end_time": "2019-04-27T10:16:19.764451Z",
     "start_time": "2019-04-27T10:16:19.742055Z"
    }
   },
   "outputs": [],
   "source": [
    "df = pd.read_csv(f, skiprows=1)"
   ]
  },
  {
   "cell_type": "code",
   "execution_count": 15,
   "metadata": {
    "ExecuteTime": {
     "end_time": "2019-04-27T10:25:33.943114Z",
     "start_time": "2019-04-27T10:25:33.932764Z"
    }
   },
   "outputs": [],
   "source": [
    "def parse_can_message(message):\n",
    "    message = message.strip()  # remove spurious blanks\n",
    "    can_bytes = message.split(' ')\n",
    "    can2hex = lambda x: hex(int(x))[2:]\n",
    "    hex_bytes = map(can2hex, can_bytes)  # dec -> hex\n",
    "    return list(hex_bytes)"
   ]
  },
  {
   "cell_type": "code",
   "execution_count": 16,
   "metadata": {
    "ExecuteTime": {
     "end_time": "2019-04-27T10:25:46.521470Z",
     "start_time": "2019-04-27T10:25:46.510453Z"
    }
   },
   "outputs": [],
   "source": [
    "def parse_amk_1(message):\n",
    "    return {\n",
    "        'status': message[0] + message[1],  # first 16 bits\n",
    "        'actual velocity': message[2] + message[3],  # second 16 bits\n",
    "        'torque current': message[4] + message[5],  # third 16 bits\n",
    "        'magnetizing current': message[6] + message[7],  # fourth 16 bits\n",
    "    }"
   ]
  },
  {
   "cell_type": "code",
   "execution_count": 17,
   "metadata": {
    "ExecuteTime": {
     "end_time": "2019-04-27T10:25:57.060017Z",
     "start_time": "2019-04-27T10:25:57.051477Z"
    }
   },
   "outputs": [],
   "source": [
    "def parse_amk_2(message):\n",
    "    return {}"
   ]
  },
  {
   "cell_type": "code",
   "execution_count": null,
   "metadata": {},
   "outputs": [],
   "source": [
    "def parse_amk_setpoints(message):\n",
    "    return {}"
   ]
  },
  {
   "cell_type": "code",
   "execution_count": 19,
   "metadata": {
    "ExecuteTime": {
     "end_time": "2019-04-27T10:33:11.459139Z",
     "start_time": "2019-04-27T10:33:11.445203Z"
    }
   },
   "outputs": [
    {
     "data": {
      "text/plain": [
       "['a5', 'fd', 'a7', '0', '0', '0', 'a7', '0']"
      ]
     },
     "execution_count": 19,
     "metadata": {},
     "output_type": "execute_result"
    }
   ],
   "source": [
    "parse_can_message('165 253 167 0 0 0 167 0 ')"
   ]
  },
  {
   "cell_type": "code",
   "execution_count": 30,
   "metadata": {
    "ExecuteTime": {
     "end_time": "2019-04-27T12:48:05.600024Z",
     "start_time": "2019-04-27T12:48:05.586596Z"
    }
   },
   "outputs": [
    {
     "name": "stdout",
     "output_type": "stream",
     "text": [
      "0\n",
      "2\n",
      "4\n",
      "6\n",
      "8\n"
     ]
    }
   ],
   "source": [
    "for i in range(0, 10, 2):\n",
    "    print(i)"
   ]
  },
  {
   "cell_type": "code",
   "execution_count": null,
   "metadata": {},
   "outputs": [],
   "source": []
  },
  {
   "cell_type": "code",
   "execution_count": null,
   "metadata": {},
   "outputs": [],
   "source": []
  },
  {
   "cell_type": "code",
   "execution_count": null,
   "metadata": {},
   "outputs": [],
   "source": []
  },
  {
   "cell_type": "code",
   "execution_count": null,
   "metadata": {},
   "outputs": [],
   "source": []
  }
 ],
 "metadata": {
  "kernelspec": {
   "display_name": "Python 3",
   "language": "python",
   "name": "python3"
  },
  "language_info": {
   "codemirror_mode": {
    "name": "ipython",
    "version": 3
   },
   "file_extension": ".py",
   "mimetype": "text/x-python",
   "name": "python",
   "nbconvert_exporter": "python",
   "pygments_lexer": "ipython3",
   "version": "3.6.7"
  }
 },
 "nbformat": 4,
 "nbformat_minor": 2
}
