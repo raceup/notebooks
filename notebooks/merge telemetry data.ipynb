{
 "cells": [
  {
   "cell_type": "code",
   "execution_count": 1,
   "metadata": {
    "ExecuteTime": {
     "end_time": "2019-04-19T21:34:23.601933Z",
     "start_time": "2019-04-19T21:34:23.150282Z"
    }
   },
   "outputs": [],
   "source": [
    "import os\n",
    "import pandas as pd\n",
    "\n",
    "input_folder = '$HOME/Projects/raceup/2018-19/telemetry/_data/2019-04-14/merged_imu/'"
   ]
  },
  {
   "cell_type": "code",
   "execution_count": 3,
   "metadata": {
    "ExecuteTime": {
     "end_time": "2019-04-19T21:52:50.634225Z",
     "start_time": "2019-04-19T21:52:50.620800Z"
    },
    "cell_style": "center"
   },
   "outputs": [],
   "source": [
    "def find_files(folder, extension='.CSV'):\n",
    "    \"\"\"\n",
    "    :param folder: folder containing files to be merged\n",
    "    :param extension: allow only this extension\n",
    "    :return: assuming a sorted order of files, this returns list of files to\n",
    "    be merged\n",
    "    \"\"\"\n",
    "\n",
    "    files_in_folder = [\n",
    "        os.path.join(folder, f)  # full path\n",
    "        for f in os.listdir(folder)\n",
    "        if os.path.isfile(os.path.join(folder, f)) and f.endswith(extension)\n",
    "    ]\n",
    "    return sorted(files_in_folder)"
   ]
  },
  {
   "cell_type": "code",
   "execution_count": 4,
   "metadata": {
    "ExecuteTime": {
     "end_time": "2019-04-19T21:52:54.844985Z",
     "start_time": "2019-04-19T21:52:54.833768Z"
    }
   },
   "outputs": [],
   "source": [
    "files = find_files(input_folder)"
   ]
  },
  {
   "cell_type": "code",
   "execution_count": 53,
   "metadata": {},
   "outputs": [],
   "source": [
    "time_key = 'arduino time'\n",
    "dfs = [\n",
    "    pd.read_csv(f, skiprows=1)  # first row is version of Arduino\n",
    "    for f in files\n",
    "]"
   ]
  },
  {
   "cell_type": "code",
   "execution_count": 54,
   "metadata": {},
   "outputs": [],
   "source": [
    "time_so_far = 0\n",
    "for df in dfs:\n",
    "    try:\n",
    "        diff_time = df[time_key].iloc[-1]  # last value\n",
    "    except:\n",
    "        diff_time = 0\n",
    "\n",
    "    df[time_key] = df[time_key].apply(lambda x: x + time_so_far)  # add time of previous df\n",
    "    time_so_far += diff_time"
   ]
  },
  {
   "cell_type": "code",
   "execution_count": 58,
   "metadata": {},
   "outputs": [],
   "source": [
    "merged = pd.concat(dfs)"
   ]
  },
  {
   "cell_type": "code",
   "execution_count": 60,
   "metadata": {},
   "outputs": [],
   "source": [
    "merged.to_csv('merged.csv', index=False)"
   ]
  },
  {
   "cell_type": "code",
   "execution_count": 1,
   "metadata": {},
   "outputs": [
    {
     "data": {
      "text/plain": [
       "21"
      ]
     },
     "execution_count": 1,
     "metadata": {},
     "output_type": "execute_result"
    }
   ],
   "source": [
    "lines = [1503, 5003, 1003, 503, 3003, 4003, 2003, 1753, 753, 3253, 9253, 3, 1003, 1253, 1503, 503, 15753, 2003, 1253, 3253, 11003]\n",
    "tot_lines = sum(lines)\n",
    "tot_lines - 69522\n",
    "len(lines)"
   ]
  },
  {
   "cell_type": "code",
   "execution_count": 67,
   "metadata": {},
   "outputs": [],
   "source": [
    "def without_duplicates(lst):\n",
    "    return list(set(lst))"
   ]
  },
  {
   "cell_type": "code",
   "execution_count": 69,
   "metadata": {},
   "outputs": [],
   "source": [
    "def interpol(first_point, second_point):\n",
    "    \"\"\" linear interpol \"\"\"\n",
    "\n",
    "    delta_x = second_point[0] - first_point[0]\n",
    "    delta_y = second_point[1] - first_point[1]\n",
    "    f = lambda x: (x - first_point[0]) * (delta_y / delta_x) + first_point[1]\n",
    "    return f"
   ]
  },
  {
   "cell_type": "code",
   "execution_count": null,
   "metadata": {},
   "outputs": [],
   "source": [
    "def add_missing_points(df, eval_points, interpol_f, dnf_val=0.0):\n",
    "    new_df = []\n",
    "    ref_key = 'x'\n",
    "    data_key = 'y'\n",
    "    \n",
    "    i = -1\n",
    "    for point in eval_points:\n",
    "        new_row = [point]\n",
    "\n",
    "        if i < len(df[ref_key]): and df[ref_key].iloc[i + 1] == point:  # there is a value at the exact key\n",
    "            i += 1\n",
    "            exact_value = df[data_key].iloc[i]\n",
    "            new_row.append(exact_value)\n",
    "        else:\n",
    "            if i < 0:  # no data found ever\n",
    "                new_row.append(dnf_value)  # dnf\n",
    "            else:  # data is to be interpolated\n",
    "                if i < len(df[ref_key]) - 1:\n",
    "                    prev_data_point = (df1[join_key].iloc[i], df1[data_key].iloc[i])  # (x, y)\n",
    "                    next_data_point = (df1[join_key].iloc[i + 1], df1[data_key].iloc[i + 1])  # (x, y)\n",
    "                    interpol_f = interpol(prev_data_point, next_data_point)  # get interpol function\n",
    "                    interpol_value = interpol_f(index)  # evaluate at missing data point\n",
    "                    new_row.append(interpol_value)\n",
    "                else:  # enf of df\n",
    "                    new_row.append(dnf_value)"
   ]
  },
  {
   "cell_type": "code",
   "execution_count": 66,
   "metadata": {
    "code_folding": []
   },
   "outputs": [],
   "source": [
    "df1 = pd.DataFrame([\n",
    "    [200, 3],\n",
    "    [210, 4],\n",
    "    [220, 5],\n",
    "    [230, 6],\n",
    "    [240, 1],\n",
    "], columns=['x', 'y']\n",
    ")\n",
    "\n",
    "df2 = pd.DataFrame([\n",
    "    [180, 43],\n",
    "    [190, 44],\n",
    "    [211, 45],\n",
    "    [225, 46],\n",
    "    [250, 41],\n",
    "], columns=['x', 'y']\n",
    ")\n",
    "\n",
    "join_key = 'x'\n",
    "data_key = 'y'\n",
    "dnf_value = 0.0\n",
    "indexes = sort(without_duplicates(list(df1[join_key]) + list(df2[join_key])))\n",
    "\n",
    "i = -1  # start at 0\n",
    "j = -1\n",
    "new_df = []\n",
    "\n",
    "for index in indexes:\n",
    "    new_row = [i]\n",
    "\n",
    "    if df1[join_key].iloc[i + 1] == index:  # there is a value at the exact key\n",
    "        exact_value = df1[data_key].iloc[i]\n",
    "        new_row.append(exact_value)\n",
    "        i += 1\n",
    "    else:\n",
    "        if i < 0:  # no data found ever\n",
    "            new_row.append(dnf_value)  # dnf\n",
    "        else:  # data is to be interpolated\n",
    "            prev_data_point = (df1[join_key].iloc[i], df1[data_key].iloc[i])  # (x, y)\n",
    "            next_data_point = (df1[join_key].iloc[i + 1], df1[data_key].iloc[i + 1])  # (x, y)\n",
    "            interpol_f = interpol(prev_data_point, next_data_point)  # get interpol function\n",
    "            interpol_value = interpol_f(index)  # evaluate at missing data point\n",
    "            new_row.append(interpol_value)\n",
    "            \n",
    "    \n",
    "    if df2[join_key].iloc[j] == index:  # there is a value at the exact key\n",
    "        exact_value = df2[data_key].iloc[j]\n",
    "        new_row.append(exact_value)\n",
    "        j += 1"
   ]
  },
  {
   "cell_type": "code",
   "execution_count": 70,
   "metadata": {},
   "outputs": [],
   "source": [
    "def get_last_time(f):\n",
    "    with open(f, 'r') as reader:\n",
    "        try:\n",
    "            last_line = reader.readlines()[-1]\n",
    "            last_time = last_line.split(',')[0]\n",
    "            return float(last_time)\n",
    "        except:\n",
    "            return 0"
   ]
  },
  {
   "cell_type": "code",
   "execution_count": 72,
   "metadata": {},
   "outputs": [],
   "source": [
    "def min_to_str(x):\n",
    "    dec_secs = x % 1  # float part\n",
    "    secs = dec_secs * 60\n",
    "    mins = math.floor(x)  # int part\n",
    "    return {'min': mins, 'secs': secs}"
   ]
  }
 ],
 "metadata": {
  "kernelspec": {
   "display_name": "Python 3",
   "language": "python",
   "name": "python3"
  },
  "language_info": {
   "codemirror_mode": {
    "name": "ipython",
    "version": 3
   },
   "file_extension": ".py",
   "mimetype": "text/x-python",
   "name": "python",
   "nbconvert_exporter": "python",
   "pygments_lexer": "ipython3",
   "version": "3.6.7"
  }
 },
 "nbformat": 4,
 "nbformat_minor": 2
}
